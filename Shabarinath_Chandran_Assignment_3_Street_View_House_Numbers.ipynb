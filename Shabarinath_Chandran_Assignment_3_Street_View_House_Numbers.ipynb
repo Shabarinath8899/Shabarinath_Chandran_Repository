{
  "nbformat": 4,
  "nbformat_minor": 0,
  "metadata": {
    "anaconda-cloud": {},
    "kernelspec": {
      "display_name": "Python 3",
      "language": "python",
      "name": "python3"
    },
    "language_info": {
      "codemirror_mode": {
        "name": "ipython",
        "version": 3
      },
      "file_extension": ".py",
      "mimetype": "text/x-python",
      "name": "python",
      "nbconvert_exporter": "python",
      "pygments_lexer": "ipython3",
      "version": "3.7.6"
    },
    "colab": {
      "name": "Shabarinath_Chandran_Assignment_3_Street_View_House_Numbers.ipynb",
      "provenance": [],
      "collapsed_sections": [],
      "machine_shape": "hm",
      "include_colab_link": true
    }
  },
  "cells": [
    {
      "cell_type": "markdown",
      "metadata": {
        "id": "view-in-github",
        "colab_type": "text"
      },
      "source": [
        "<a href=\"https://colab.research.google.com/github/Shabarinath8899/Shabarinath_Chandran_Repository/blob/master/Shabarinath_Chandran_Assignment_3_Street_View_House_Numbers.ipynb\" target=\"_parent\"><img src=\"https://colab.research.google.com/assets/colab-badge.svg\" alt=\"Open In Colab\"/></a>"
      ]
    },
    {
      "cell_type": "markdown",
      "metadata": {
        "id": "LGD-Vfytesxf",
        "colab_type": "text"
      },
      "source": [
        "# Street View House Numbers Dataset\n",
        "\n",
        "\n",
        "The [Street View House Numbers Dataset](https://www.openml.org/d/41081) contains 32-by-32 RGB images centered around a single digit of a house number appearing in Google Street View. Many of the images do contain some distractors at the sides. It consists of 10 classes, 1 for each digit. Digit '1' has label 0, '9' has label 8 and '0' has label 9. Your goal is to build a model that recognizes the correct digit."
      ]
    },
    {
      "cell_type": "code",
      "metadata": {
        "id": "8FAlXkmFesxh",
        "colab_type": "code",
        "outputId": "b3feab0a-3245-43b1-9f2a-ae0d0ab004e0",
        "colab": {
          "base_uri": "https://localhost:8080/",
          "height": 547
        }
      },
      "source": [
        "%matplotlib inline\n",
        "!pip install openml\n",
        "import openml as oml\n",
        "import numpy as np\n",
        "import matplotlib.pyplot as plt\n",
        "import sklearn\n",
        "import pickle\n",
        "import time"
      ],
      "execution_count": 0,
      "outputs": [
        {
          "output_type": "stream",
          "text": [
            "Collecting openml\n",
            "\u001b[?25l  Downloading https://files.pythonhosted.org/packages/68/5b/cd32bb85651eccebfb489cc6ef7f060ce0f62350a6239127e398313090cc/openml-0.10.2.tar.gz (158kB)\n",
            "\r\u001b[K     |██                              | 10kB 19.6MB/s eta 0:00:01\r\u001b[K     |████▏                           | 20kB 1.7MB/s eta 0:00:01\r\u001b[K     |██████▏                         | 30kB 2.2MB/s eta 0:00:01\r\u001b[K     |████████▎                       | 40kB 1.6MB/s eta 0:00:01\r\u001b[K     |██████████▎                     | 51kB 1.8MB/s eta 0:00:01\r\u001b[K     |████████████▍                   | 61kB 2.2MB/s eta 0:00:01\r\u001b[K     |██████████████▍                 | 71kB 2.3MB/s eta 0:00:01\r\u001b[K     |████████████████▌               | 81kB 2.5MB/s eta 0:00:01\r\u001b[K     |██████████████████▌             | 92kB 2.8MB/s eta 0:00:01\r\u001b[K     |████████████████████▋           | 102kB 2.7MB/s eta 0:00:01\r\u001b[K     |██████████████████████▊         | 112kB 2.7MB/s eta 0:00:01\r\u001b[K     |████████████████████████▊       | 122kB 2.7MB/s eta 0:00:01\r\u001b[K     |██████████████████████████▉     | 133kB 2.7MB/s eta 0:00:01\r\u001b[K     |████████████████████████████▉   | 143kB 2.7MB/s eta 0:00:01\r\u001b[K     |███████████████████████████████ | 153kB 2.7MB/s eta 0:00:01\r\u001b[K     |████████████████████████████████| 163kB 2.7MB/s \n",
            "\u001b[?25hCollecting liac-arff>=2.4.0\n",
            "  Downloading https://files.pythonhosted.org/packages/e9/35/fbc9217cfa91d98888b43e1a19c03a50d716108c58494c558c65e308f372/liac-arff-2.4.0.tar.gz\n",
            "Collecting xmltodict\n",
            "  Downloading https://files.pythonhosted.org/packages/28/fd/30d5c1d3ac29ce229f6bdc40bbc20b28f716e8b363140c26eff19122d8a5/xmltodict-0.12.0-py2.py3-none-any.whl\n",
            "Requirement already satisfied: requests in /usr/local/lib/python3.6/dist-packages (from openml) (2.21.0)\n",
            "Requirement already satisfied: scikit-learn>=0.18 in /usr/local/lib/python3.6/dist-packages (from openml) (0.22.1)\n",
            "Requirement already satisfied: python-dateutil in /usr/local/lib/python3.6/dist-packages (from openml) (2.6.1)\n",
            "Requirement already satisfied: pandas>=0.19.2 in /usr/local/lib/python3.6/dist-packages (from openml) (0.25.3)\n",
            "Requirement already satisfied: scipy>=0.13.3 in /usr/local/lib/python3.6/dist-packages (from openml) (1.4.1)\n",
            "Requirement already satisfied: numpy>=1.6.2 in /usr/local/lib/python3.6/dist-packages (from openml) (1.17.5)\n",
            "Requirement already satisfied: urllib3<1.25,>=1.21.1 in /usr/local/lib/python3.6/dist-packages (from requests->openml) (1.24.3)\n",
            "Requirement already satisfied: chardet<3.1.0,>=3.0.2 in /usr/local/lib/python3.6/dist-packages (from requests->openml) (3.0.4)\n",
            "Requirement already satisfied: idna<2.9,>=2.5 in /usr/local/lib/python3.6/dist-packages (from requests->openml) (2.8)\n",
            "Requirement already satisfied: certifi>=2017.4.17 in /usr/local/lib/python3.6/dist-packages (from requests->openml) (2019.11.28)\n",
            "Requirement already satisfied: joblib>=0.11 in /usr/local/lib/python3.6/dist-packages (from scikit-learn>=0.18->openml) (0.14.1)\n",
            "Requirement already satisfied: six>=1.5 in /usr/local/lib/python3.6/dist-packages (from python-dateutil->openml) (1.12.0)\n",
            "Requirement already satisfied: pytz>=2017.2 in /usr/local/lib/python3.6/dist-packages (from pandas>=0.19.2->openml) (2018.9)\n",
            "Building wheels for collected packages: openml, liac-arff\n",
            "  Building wheel for openml (setup.py) ... \u001b[?25l\u001b[?25hdone\n",
            "  Created wheel for openml: filename=openml-0.10.2-cp36-none-any.whl size=190318 sha256=0fb342777772b920b292e304a69b1eaa2be0d8990f02912da55ecb1eda83c87e\n",
            "  Stored in directory: /root/.cache/pip/wheels/71/ec/5f/aaad9e184680b0b8f1a02ff0ec640cace5adf5bff7bb0af1b4\n",
            "  Building wheel for liac-arff (setup.py) ... \u001b[?25l\u001b[?25hdone\n",
            "  Created wheel for liac-arff: filename=liac_arff-2.4.0-cp36-none-any.whl size=13335 sha256=c59d68d4f928ecbff3afc1eb83b353aa54b424482d6686f49d24a595f3c2be07\n",
            "  Stored in directory: /root/.cache/pip/wheels/d1/6a/e7/529dc54d76ecede4346164a09ae3168df358945612710f5203\n",
            "Successfully built openml liac-arff\n",
            "Installing collected packages: liac-arff, xmltodict, openml\n",
            "Successfully installed liac-arff-2.4.0 openml-0.10.2 xmltodict-0.12.0\n"
          ],
          "name": "stdout"
        }
      ]
    },
    {
      "cell_type": "code",
      "metadata": {
        "id": "KBpDMv1Vesxl",
        "colab_type": "code",
        "colab": {}
      },
      "source": [
        "# Download Streetview data. Takes a while to download (5-10 min).\n",
        "SVHN = oml.datasets.get_dataset(41081)\n",
        "X, y, cats, attrs = SVHN.get_data(dataset_format='array',\n",
        "    target=SVHN.default_target_attribute)"
      ],
      "execution_count": 0,
      "outputs": []
    },
    {
      "cell_type": "code",
      "metadata": {
        "id": "lNMKV-mo6uWP",
        "colab_type": "code",
        "outputId": "d3cac03b-5470-4861-d8cc-9a4d7b876077",
        "colab": {
          "base_uri": "https://localhost:8080/",
          "height": 34
        }
      },
      "source": [
        "# To save time, you can save the dataset to a Google drive, and load it quickly later\n",
        "from google.colab import drive\n",
        "drive.mount('/content/drive')\n",
        "\n",
        "with open(\"drive/My Drive/SVHN.pkl\", \"wb\") as f:\n",
        " pickle.dump(X, f, protocol=pickle.HIGHEST_PROTOCOL)\n",
        " pickle.dump(y, f, protocol=pickle.HIGHEST_PROTOCOL)   \n",
        " pickle.dump(cats, f, protocol=pickle.HIGHEST_PROTOCOL)\n",
        " pickle.dump(attrs, f, protocol=pickle.HIGHEST_PROTOCOL)"
      ],
      "execution_count": 0,
      "outputs": [
        {
          "output_type": "stream",
          "text": [
            "Drive already mounted at /content/drive; to attempt to forcibly remount, call drive.mount(\"/content/drive\", force_remount=True).\n"
          ],
          "name": "stdout"
        }
      ]
    },
    {
      "cell_type": "code",
      "metadata": {
        "id": "NNc6MBHe8t4C",
        "colab_type": "code",
        "outputId": "87fdaa2d-9695-4fb9-8851-81228ccf6639",
        "colab": {
          "base_uri": "https://localhost:8080/",
          "height": 34
        }
      },
      "source": [
        "# (Uncomment to) Load SVHN dataset from Google drive\n",
        "from google.colab import drive\n",
        "drive.mount('/content/drive')\n",
        "\n",
        "with open(\"drive/My Drive/SVHN.pkl\", \"rb\") as f:\n",
        "     X = pickle.load(f)\n",
        "     y = pickle.load(f)\n",
        "     cats = pickle.load(f)\n",
        "     attrs = pickle.load(f)"
      ],
      "execution_count": 0,
      "outputs": [
        {
          "output_type": "stream",
          "text": [
            "Drive already mounted at /content/drive; to attempt to forcibly remount, call drive.mount(\"/content/drive\", force_remount=True).\n"
          ],
          "name": "stdout"
        }
      ]
    },
    {
      "cell_type": "markdown",
      "metadata": {
        "id": "ZC2877HRDqhV",
        "colab_type": "text"
      },
      "source": [
        "### What is the shape of the image data X? How many images are there? Explain why each image has 3072 values."
      ]
    },
    {
      "cell_type": "code",
      "metadata": {
        "id": "OPTaJNbUC35Y",
        "colab_type": "code",
        "outputId": "7f1d6a53-9a84-4775-b0c7-0c3cbedf1267",
        "colab": {
          "base_uri": "https://localhost:8080/",
          "height": 34
        }
      },
      "source": [
        "plot_images\n",
        "X.shape\n"
      ],
      "execution_count": 0,
      "outputs": [
        {
          "output_type": "execute_result",
          "data": {
            "text/plain": [
              "(99289, 3072)"
            ]
          },
          "metadata": {
            "tags": []
          },
          "execution_count": 14
        }
      ]
    },
    {
      "cell_type": "markdown",
      "metadata": {
        "id": "nr_1EjE5jxM4",
        "colab_type": "text"
      },
      "source": [
        "* Shape of the image data X is (99289, 3072)\n",
        "\n",
        "* There are 99289 images\n",
        "\n",
        "* As the dataset contains 32-by-32 RGB images. The value is 32*32 = 1024, multiplied by 3 as RGB contains 3 colors, equal to 3072.\n",
        "32*32*3 = 3072\n"
      ]
    },
    {
      "cell_type": "markdown",
      "metadata": {
        "id": "CdbVIX_zatiS",
        "colab_type": "text"
      },
      "source": [
        "### You can use the following function to plot the first 10 images to get a sense of the data."
      ]
    },
    {
      "cell_type": "code",
      "metadata": {
        "id": "XzE3X5Etesxo",
        "colab_type": "code",
        "outputId": "0650973a-1028-4663-af20-3c0a55479954",
        "colab": {
          "base_uri": "https://localhost:8080/",
          "height": 94
        }
      },
      "source": [
        "# Plots image. Use grayscale=True for plotting grayscale images\n",
        "def plot_images(X, y, grayscale=False):\n",
        "    fig, axes = plt.subplots(1, len(X),  figsize=(10, 5))\n",
        "    if grayscale:\n",
        "        [ax.imshow(X[n].reshape(32, 32)/255, cmap='gray')\n",
        "         for n,ax in enumerate(axes)]\n",
        "    else:\n",
        "        [ax.imshow(X[n].reshape(32, 32, 3)/255) for n,ax in enumerate(axes)]\n",
        "    [ax.set_title((y[n]+1)) for n,ax in enumerate(axes)]\n",
        "    [ax.axis('off') for ax in axes]\n",
        "plot_images(X[0:10], y[0:10]);"
      ],
      "execution_count": 0,
      "outputs": [
        {
          "output_type": "display_data",
          "data": {
            "image/png": "[encoded data removed]",
            "text/plain": [
              "<Figure size 720x360 with 10 Axes>"
            ]
          },
          "metadata": {
            "tags": []
          }
        }
      ]
    },
    {
      "cell_type": "markdown",
      "metadata": {
        "id": "SEOqfNn0WEWn",
        "colab_type": "text"
      },
      "source": [
        "### Next, we will convert the images to greyscale and normalize the data to fall within the range 0 to 1. Plot the first 10 images to verify that the conversion worked."
      ]
    },
    {
      "cell_type": "markdown",
      "metadata": {
        "id": "fnuhRrngfch7",
        "colab_type": "text"
      },
      "source": [
        ""
      ]
    },
    {
      "cell_type": "code",
      "metadata": {
        "id": "Z0AZiyprYIeW",
        "colab_type": "code",
        "colab": {}
      },
      "source": [
        "def rgb2greyscale(X):\n",
        "  rgb_weights = [0.2989, 0.5870, 0.1140]\n",
        "  greyscale_img = np.expand_dims(np.dot((X.reshape(len(X),32*32,3)/255 ),rgb_weights),axis=3)\n",
        "  return greyscale_img"
      ],
      "execution_count": 0,
      "outputs": []
    },
    {
      "cell_type": "code",
      "metadata": {
        "id": "Z1pLo2gql3_t",
        "colab_type": "code",
        "outputId": "8056f143-011a-40fc-da98-6531c7c07ad4",
        "colab": {
          "base_uri": "https://localhost:8080/",
          "height": 148
        }
      },
      "source": [
        "Greyscale = rgb2greyscale(X)\n",
        "plot_images(Greyscale[0:10],y[0:10],True)"
      ],
      "execution_count": 0,
      "outputs": [
        {
          "output_type": "stream",
          "text": [
            "/usr/local/lib/python3.6/dist-packages/ipykernel_launcher.py:3: DeprecationWarning: Both axis > a.ndim and axis < -a.ndim - 1 are deprecated and will raise an AxisError in the future.\n",
            "  This is separate from the ipykernel package so we can avoid doing imports until\n"
          ],
          "name": "stderr"
        },
        {
          "output_type": "display_data",
          "data": {
            "image/png": "[encoded data removed]",
            "text/plain": [
              "<Figure size 720x360 with 10 Axes>"
            ]
          },
          "metadata": {
            "tags": []
          }
        }
      ]
    },
    {
      "cell_type": "markdown",
      "metadata": {
        "id": "7YYnvhirbCM2",
        "colab_type": "text"
      },
      "source": [
        "### Evaluate different linear models\n",
        "\n",
        "1. To save time, use a stratified 1% subsample of the data. Plot the distribution of the classes (as a histogram) for both the original data and the subsample to verify this was done correctly. (hint: a quick way to do it is to borrow the stratify option with sklearn.model_selection.train_test_split)\n",
        "2. Evaluate k-Nearest Neighbors, Logistic Regression and Linear SVM on this sample, using their default hyperparameter settings. Use cross-validation with 3 folds, output the training accuracy and test accuracy (feel free to reuse code from past assignments). [Time](https://stackoverflow.com/questions/1557571/how-do-i-get-time-of-a-python-programs-execution) how long execution takes.\n",
        "3. Discuss the results. Are they what you expected? Are the models over/underfitting? What should be done to improve the results?\n",
        "4. Now evaluate the same models using 3% of the data. Discuss the results. Is the run time what you expect? Which models perform better or worse than the 1% training? How can you explain this in terms of underfitting/overfitting?"
      ]
    },
    {
      "cell_type": "code",
      "metadata": {
        "id": "qE7B8vgFbu5Y",
        "colab_type": "code",
        "colab": {}
      },
      "source": [
        ""
      ],
      "execution_count": 0,
      "outputs": []
    },
    {
      "cell_type": "markdown",
      "metadata": {
        "id": "3jrC0r3EnlTx",
        "colab_type": "text"
      },
      "source": [
        "1. To save time, use a stratified 1% subsample of the data. Plot the distribution of the classes (as a histogram) for both the original data and the subsample to verify this was done correctly. (hint: a quick way to do it is to borrow the stratify option with sklearn.model_selection.train_test_split)"
      ]
    },
    {
      "cell_type": "code",
      "metadata": {
        "id": "RrpMBsA5nli5",
        "colab_type": "code",
        "colab": {}
      },
      "source": [
        "from sklearn.model_selection import train_test_split, cross_validate\n",
        "from sklearn.linear_model import LogisticRegression\n",
        "from sklearn.svm import LinearSVC\n",
        "from sklearn.neighbors import KNeighborsClassifier\n",
        "import matplotlib.pyplot as plt\n",
        "\n",
        "# Take a 10% stratified sub sample to speed up experimentation\n",
        "Sample_X, _, Sample_Y, _ = train_test_split(X,y, stratify=y, train_size=0.01)\n"
      ],
      "execution_count": 0,
      "outputs": []
    },
    {
      "cell_type": "code",
      "metadata": {
        "id": "pW4F_IT9pIF7",
        "colab_type": "code",
        "outputId": "676c9bfd-3a7c-4c51-d97a-37ea013f9299",
        "colab": {
          "base_uri": "https://localhost:8080/",
          "height": 295
        }
      },
      "source": [
        "import matplotlib.pyplot as plt \n",
        "sample = Sample_X\n",
        "plt.hist(sample, histtype = 'bar', rwidth = 1) \n",
        "  \n",
        "plt.xlabel('Sample data')  \n",
        "plt.ylabel('frequency label')  \n",
        "plt.title('Histogram on sample data') \n",
        "plt.show()"
      ],
      "execution_count": 0,
      "outputs": [
        {
          "output_type": "display_data",
          "data": {
            "image/png": "[encoded data removed]",
            "text/plain": [
              "<Figure size 432x288 with 1 Axes>"
            ]
          },
          "metadata": {
            "tags": []
          }
        }
      ]
    },
    {
      "cell_type": "code",
      "metadata": {
        "id": "pDVJzUqmsB1K",
        "colab_type": "code",
        "outputId": "8481dfca-a845-4978-e19b-ca47ba47d90a",
        "colab": {
          "base_uri": "https://localhost:8080/",
          "height": 295
        }
      },
      "source": [
        "\n",
        "plt.hist(X, histtype = 'bar', rwidth = 1) \n",
        "  \n",
        "plt.xlabel('Complete data')  \n",
        "plt.ylabel('frequency label')  \n",
        "plt.title('Histogram on complete data') \n",
        "plt.show()"
      ],
      "execution_count": 0,
      "outputs": [
        {
          "output_type": "display_data",
          "data": {
            "image/png": "[encoded data removed]",
            "text/plain": [
              "<Figure size 432x288 with 1 Axes>"
            ]
          },
          "metadata": {
            "tags": []
          }
        }
      ]
    },
    {
      "cell_type": "markdown",
      "metadata": {
        "id": "oCI-Wsu9vdtC",
        "colab_type": "text"
      },
      "source": [
        "2. Evaluate k-Nearest Neighbors, Logistic Regression and Linear SVM on this sample, using their default hyperparameter settings. Use cross-validation with 3 folds, output the training accuracy and test accuracy (feel free to reuse code from past assignments). Time how long execution takes."
      ]
    },
    {
      "cell_type": "code",
      "metadata": {
        "id": "q-Q2q-3Uvo_x",
        "colab_type": "code",
        "colab": {}
      },
      "source": [
        "from sklearn.model_selection import cross_validate, train_test_split\n",
        "from sklearn.linear_model import LogisticRegression\n",
        "from sklearn.neighbors import KNeighborsClassifier\n",
        "from sklearn.pipeline import make_pipeline\n",
        "from sklearn.svm import LinearSVC\n",
        "import sklearn\n",
        "\n",
        "\n",
        "\n",
        "def evaluate_learners(models, Sample_X, Sample_Y):\n",
        "    \"\"\" Evaluate each model in 'models' with cross-validation on the provided (X, y) data. \n",
        "    \n",
        "    Given a list of models [model1, model2, ..., modelN] return two lists:\n",
        "     - a list with the scores obtained on the training samples for each model,\n",
        "     - a list with the test scores obtained on the test samples for each model.\n",
        "     The order of scores should match the order in which the models were originally provided. E.g.:     \n",
        "     [Model1 train score, ..., ModelN train score], [Model1 test score, ..., ModelN test score]\n",
        "    \"\"\"\n",
        "    # Evaluate with 5-fold cross-validation.\n",
        "    xvals = [cross_validate(m, Sample_X, Sample_Y, return_train_score= True, n_jobs=-1) for m in models]\n",
        "    test_scores = [x['test_score'] for x in xvals]\n",
        "    train_scores = [x['train_score'] for x in xvals]\n",
        "    return train_scores, test_scores"
      ],
      "execution_count": 0,
      "outputs": []
    },
    {
      "cell_type": "code",
      "metadata": {
        "id": "E4YFcupWvpc0",
        "colab_type": "code",
        "colab": {}
      },
      "source": [
        "models = [ LogisticRegression(), LinearSVC(), KNeighborsClassifier()]\n",
        "models = np.array([m for m in models]).flatten()\n",
        "train_scores, test_scores = evaluate_learners(models, Sample_X, Sample_Y)"
      ],
      "execution_count": 0,
      "outputs": []
    },
    {
      "cell_type": "code",
      "metadata": {
        "id": "k2902TMFvpt7",
        "colab_type": "code",
        "outputId": "ecbf792c-49dd-4f10-9307-286e7950c33d",
        "colab": {
          "base_uri": "https://localhost:8080/",
          "height": 279
        }
      },
      "source": [
        "classifiers = [LogisticRegression(), LinearSVC(), KNeighborsClassifier()]\n",
        "fig, ax = plt.subplots()\n",
        "width=0.3\n",
        "ax.barh(np.arange(len(train_scores)), np.mean(test_scores, axis=1), width,\n",
        "        yerr= np.std(test_scores, axis=1), color='green', label='test')\n",
        "ax.barh(np.arange(len(train_scores))-width, np.mean(train_scores, axis=1), width,\n",
        "        yerr= np.std(train_scores, axis=1), color='red', label='train')\n",
        "for i, te, tr in zip(np.arange(len(train_scores)),test_scores,train_scores):\n",
        "    ax.text(0, i, \"{:.4f} +- {:.4f}\".format(np.mean(te),np.std(te)), color='white', va='center')\n",
        "    ax.text(0, i-width, \"{:.4f} +- {:.4f}\".format(np.mean(tr),np.std(tr)), color='white', va='center')\n",
        "ax.set(yticks=np.arange(len(train_scores))-width/2)\n",
        "ax.set_xlabel('Accuracy')\n",
        "ax.legend(bbox_to_anchor=(1.05, 1), loc=2)\n",
        "\n",
        "\n",
        "plt.show()"
      ],
      "execution_count": 0,
      "outputs": [
        {
          "output_type": "display_data",
          "data": {
            "image/png": "[encoded data removed]",
            "text/plain": [
              "<Figure size 432x288 with 1 Axes>"
            ]
          },
          "metadata": {
            "tags": []
          }
        }
      ]
    },
    {
      "cell_type": "code",
      "metadata": {
        "id": "xIO4DAWj31NF",
        "colab_type": "code",
        "outputId": "7b792ff8-95af-495c-f54f-134b06d26969",
        "colab": {
          "base_uri": "https://localhost:8080/",
          "height": 34
        }
      },
      "source": [
        "import time\n",
        "start_time = time.time()\n",
        "evaluate_learners(models, Sample_X, Sample_Y)\n",
        "print(\"--- %s seconds ---\" % (time.time() - start_time))"
      ],
      "execution_count": 0,
      "outputs": [
        {
          "output_type": "stream",
          "text": [
            "--- 115.93540954589844 seconds ---\n"
          ],
          "name": "stdout"
        }
      ]
    },
    {
      "cell_type": "markdown",
      "metadata": {
        "id": "W1L-7vqX15GE",
        "colab_type": "text"
      },
      "source": [
        "3. Discuss the results. Are they what you expected? Are the models over/underfitting? What should be done to improve the results?\n",
        "\n",
        "All the models are overfitted as they show good performance with training dataset, but does not perform well with test dataset. Hyperparameters could help to improve the models."
      ]
    },
    {
      "cell_type": "markdown",
      "metadata": {
        "id": "ja-bu_5_2En0",
        "colab_type": "text"
      },
      "source": [
        "4. Now evaluate the same models using 3% of the data. Discuss the results. Is the run time what you expect? Which models perform better or worse than the 1% training? How can you explain this in terms of underfitting/overfitting?"
      ]
    },
    {
      "cell_type": "code",
      "metadata": {
        "id": "57iRsJtK2Osl",
        "colab_type": "code",
        "colab": {}
      },
      "source": [
        "Sample_X, _, Sample_Y, _ = train_test_split(X,y, stratify=y, train_size=0.03)"
      ],
      "execution_count": 0,
      "outputs": []
    },
    {
      "cell_type": "code",
      "metadata": {
        "id": "C5LGe2xl5ZOl",
        "colab_type": "code",
        "outputId": "a7d1adf4-6797-4b27-edb8-d4a40c94a596",
        "colab": {
          "base_uri": "https://localhost:8080/",
          "height": 71
        }
      },
      "source": [
        "models = [ LogisticRegression(), LinearSVC(), KNeighborsClassifier()]\n",
        "models = np.array([m for m in models]).flatten()\n",
        "train_scores, test_scores = evaluate_learners(models, Sample_X, Sample_Y)"
      ],
      "execution_count": 0,
      "outputs": [
        {
          "output_type": "stream",
          "text": [
            "/usr/local/lib/python3.6/dist-packages/joblib/externals/loky/process_executor.py:706: UserWarning: A worker stopped while some jobs were given to the executor. This can be caused by a too short worker timeout or by a memory leak.\n",
            "  \"timeout or by a memory leak.\", UserWarning\n"
          ],
          "name": "stderr"
        }
      ]
    },
    {
      "cell_type": "code",
      "metadata": {
        "id": "UaVpDuE45Z0b",
        "colab_type": "code",
        "outputId": "5541e45c-0afa-47dc-e949-51cad2eb7917",
        "colab": {
          "base_uri": "https://localhost:8080/",
          "height": 279
        }
      },
      "source": [
        "classifiers = [LogisticRegression(), LinearSVC(), KNeighborsClassifier()]\n",
        "fig, ax = plt.subplots()\n",
        "width=0.3\n",
        "ax.barh(np.arange(len(train_scores)), np.mean(test_scores, axis=1), width,\n",
        "        yerr= np.std(test_scores, axis=1), color='green', label='test')\n",
        "ax.barh(np.arange(len(train_scores))-width, np.mean(train_scores, axis=1), width,\n",
        "        yerr= np.std(train_scores, axis=1), color='red', label='train')\n",
        "for i, te, tr in zip(np.arange(len(train_scores)),test_scores,train_scores):\n",
        "    ax.text(0, i, \"{:.4f} +- {:.4f}\".format(np.mean(te),np.std(te)), color='white', va='center')\n",
        "    ax.text(0, i-width, \"{:.4f} +- {:.4f}\".format(np.mean(tr),np.std(tr)), color='white', va='center')\n",
        "ax.set(yticks=np.arange(len(train_scores))-width/2)\n",
        "ax.set_xlabel('Accuracy')\n",
        "ax.legend(bbox_to_anchor=(1.05, 1), loc=2)\n",
        "\n",
        "\n",
        "plt.show()"
      ],
      "execution_count": 0,
      "outputs": [
        {
          "output_type": "display_data",
          "data": {
            "image/png": "[encoded data removed]",
            "text/plain": [
              "<Figure size 432x288 with 1 Axes>"
            ]
          },
          "metadata": {
            "tags": []
          }
        }
      ]
    },
    {
      "cell_type": "markdown",
      "metadata": {
        "id": "KXQh7T4VuHCP",
        "colab_type": "text"
      },
      "source": [
        "### Evaluate feed-forward neural network\n",
        "\n",
        "Counter-intuitively, even though the linear models above are slow, you can easily train the small neural network below with 100% of the data in very little time. Learn more about Google Colab if you're curious: https://research.google.com/colaboratory/faq.html \n",
        "1. Train a neural network on the full (100%) data. Start with a single hidden layer with 256 neurons, and the same output layer as this week's Fashion-MNIST lab. Evaluate the accuracy using an 80/20 train test split. How does it compare with the linear models?\n",
        "2. Plot the confusion matrix. Which digits are often confused with each other? \n",
        "3. Plot the first 15 correctly classified examples and the first 15 incorrectly classified examples, along with a bar plot of the predictions array. You can use the provided plotting functions. What sort of errors do you see? Are these indeed 'hard' examples that are easy to get wrong?\n"
      ]
    },
    {
      "cell_type": "code",
      "metadata": {
        "id": "qsowQMwu8TcI",
        "colab_type": "code",
        "outputId": "8091c8fe-6d54-4897-961d-185a4bd0072a",
        "colab": {
          "base_uri": "https://localhost:8080/",
          "height": 34
        }
      },
      "source": [
        "try:\n",
        "  # %tensorflow_version only exists in Colab.\n",
        "  %tensorflow_version 2.x\n",
        "except Exception:\n",
        "  pass"
      ],
      "execution_count": 0,
      "outputs": [
        {
          "output_type": "stream",
          "text": [
            "TensorFlow 2.x selected.\n"
          ],
          "name": "stdout"
        }
      ]
    },
    {
      "cell_type": "code",
      "metadata": {
        "id": "Qo61StiD8Tqb",
        "colab_type": "code",
        "outputId": "8440b550-386c-4a2d-dc75-a13429b9b189",
        "colab": {
          "base_uri": "https://localhost:8080/",
          "height": 34
        }
      },
      "source": [
        "from __future__ import absolute_import, division, print_function, unicode_literals\n",
        "\n",
        "# TensorFlow and tf.keras\n",
        "import tensorflow as tf\n",
        "from tensorflow import keras\n",
        "\n",
        "# Helper libraries\n",
        "import numpy as np\n",
        "import matplotlib.pyplot as plt\n",
        "\n",
        "print(tf.__version__)"
      ],
      "execution_count": 59,
      "outputs": [
        {
          "output_type": "stream",
          "text": [
            "2.1.0\n"
          ],
          "name": "stdout"
        }
      ]
    },
    {
      "cell_type": "code",
      "metadata": {
        "id": "02DLxK7E8T4-",
        "colab_type": "code",
        "colab": {}
      },
      "source": [
        "X_train, X_test , y_train, y_test = train_test_split(Greyscale.reshape(len(Greyscale),32,32),y,stratify = y,train_size = 0.8)"
      ],
      "execution_count": 0,
      "outputs": []
    },
    {
      "cell_type": "code",
      "metadata": {
        "id": "fF47YVvX8UJN",
        "colab_type": "code",
        "colab": {}
      },
      "source": [
        "model = keras.Sequential([\n",
        "    keras.layers.Flatten(input_shape=(32,32)),\n",
        "    keras.layers.Dense(256,activation = 'relu'),\n",
        "    keras.layers.Dense(10)\n",
        "])"
      ],
      "execution_count": 0,
      "outputs": []
    },
    {
      "cell_type": "code",
      "metadata": {
        "id": "UukxJmZk8UXt",
        "colab_type": "code",
        "colab": {}
      },
      "source": [
        "model.compile(optimizer='adam', loss=tf.keras.losses.SparseCategoricalCrossentropy(from_logits=True),\n",
        "             metrics=['accuracy'])"
      ],
      "execution_count": 0,
      "outputs": []
    },
    {
      "cell_type": "code",
      "metadata": {
        "id": "aLR6jUct8-iE",
        "colab_type": "code",
        "colab": {
          "base_uri": "https://localhost:8080/",
          "height": 391
        },
        "outputId": "e7b21a8a-ebe9-4d35-850f-1e7b23f6aa96"
      },
      "source": [
        "model.fit(X_train, y_train, epochs=10)"
      ],
      "execution_count": 63,
      "outputs": [
        {
          "output_type": "stream",
          "text": [
            "Train on 79431 samples\n",
            "Epoch 1/10\n",
            "79431/79431 [==============================] - 7s 83us/sample - loss: 2.0241 - accuracy: 0.2735\n",
            "Epoch 2/10\n",
            "79431/79431 [==============================] - 6s 76us/sample - loss: 1.6355 - accuracy: 0.4424\n",
            "Epoch 3/10\n",
            "79431/79431 [==============================] - 6s 76us/sample - loss: 1.5090 - accuracy: 0.4986\n",
            "Epoch 4/10\n",
            "79431/79431 [==============================] - 6s 75us/sample - loss: 1.4504 - accuracy: 0.5251\n",
            "Epoch 5/10\n",
            "79431/79431 [==============================] - 6s 76us/sample - loss: 1.4161 - accuracy: 0.5432\n",
            "Epoch 6/10\n",
            "79431/79431 [==============================] - 6s 75us/sample - loss: 1.3991 - accuracy: 0.5502\n",
            "Epoch 7/10\n",
            "79431/79431 [==============================] - 6s 76us/sample - loss: 1.3837 - accuracy: 0.5565\n",
            "Epoch 8/10\n",
            "79431/79431 [==============================] - 6s 76us/sample - loss: 1.3751 - accuracy: 0.5588\n",
            "Epoch 9/10\n",
            "79431/79431 [==============================] - 6s 76us/sample - loss: 1.3675 - accuracy: 0.5636\n",
            "Epoch 10/10\n",
            "79431/79431 [==============================] - 6s 76us/sample - loss: 1.3639 - accuracy: 0.5649\n"
          ],
          "name": "stdout"
        },
        {
          "output_type": "execute_result",
          "data": {
            "text/plain": [
              "<tensorflow.python.keras.callbacks.History at 0x7fd6bbc91860>"
            ]
          },
          "metadata": {
            "tags": []
          },
          "execution_count": 63
        }
      ]
    },
    {
      "cell_type": "code",
      "metadata": {
        "id": "5jJa-VMO8-v_",
        "colab_type": "code",
        "colab": {
          "base_uri": "https://localhost:8080/",
          "height": 68
        },
        "outputId": "273c1dbe-b4a7-49f4-dbcd-b35cc1a2ab1e"
      },
      "source": [
        "test_loss, test_acc = model.evaluate(X_test,  y_test, verbose=2)\n",
        "\n",
        "print('\\nTest accuracy:', test_acc)"
      ],
      "execution_count": 64,
      "outputs": [
        {
          "output_type": "stream",
          "text": [
            "19858/19858 - 1s - loss: 1.3619 - accuracy: 0.5621\n",
            "\n",
            "Test accuracy: 0.5621412\n"
          ],
          "name": "stdout"
        }
      ]
    },
    {
      "cell_type": "code",
      "metadata": {
        "id": "qAqj4k1njcUU",
        "colab_type": "code",
        "colab": {}
      },
      "source": [
        "def plot_image(i, predictions_array, true_label, img):\n",
        "  predictions_array, true_label, img = predictions_array, true_label[i], img[i]\n",
        "  plt.grid(False)\n",
        "  plt.xticks([])\n",
        "  plt.yticks([])\n",
        "\n",
        "  plt.imshow(img, cmap=plt.cm.binary)\n",
        "\n",
        "  predicted_label = np.argmax(predictions_array)\n",
        "  if predicted_label == true_label:\n",
        "    color = 'blue'\n",
        "  else:\n",
        "    color = 'red'\n",
        "\n",
        "  plt.xlabel(\"{} {:2.0f}% ({})\".format(predicted_label+1,\n",
        "                                100*np.max(predictions_array),\n",
        "                                true_label+1),\n",
        "                                color=color)\n",
        "\n",
        "def plot_value_array(i, predictions_array, true_label):\n",
        "  predictions_array, true_label = predictions_array, true_label[i]\n",
        "  plt.grid(False)\n",
        "  plt.xticks([1,2,3,4,5,6,7,8,9,0],rotation=90)\n",
        "  plt.yticks([])\n",
        "  thisplot = plt.bar([1,2,3,4,5,6,7,8,9,0], predictions_array, color=\"#777777\")\n",
        "  plt.ylim([0, 1])\n",
        "  predicted_label = np.argmax(predictions_array)\n",
        "  thisplot[predicted_label].set_color('red')\n",
        "  thisplot[true_label].set_color('blue')"
      ],
      "execution_count": 0,
      "outputs": []
    },
    {
      "cell_type": "markdown",
      "metadata": {
        "id": "HqEXUgyYuEVJ",
        "colab_type": "text"
      },
      "source": [
        "Bonus challenge: \n",
        "Can you improve the model performance from this first Keras model?\n",
        "If you wonder about how researchers get to 98% accuracy, here is a list of papers :)\n",
        "https://rodrigob.github.io/are_we_there_yet/build/classification_datasets_results.html#5356484e "
      ]
    }
  ]
}